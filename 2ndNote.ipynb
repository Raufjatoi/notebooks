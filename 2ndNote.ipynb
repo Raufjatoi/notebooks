{
 "cells": [
  {
   "cell_type": "code",
   "execution_count": null,
   "id": "e37501ab-c325-4b8f-8160-bbb581d6654f",
   "metadata": {},
   "outputs": [],
   "source": []
  }
 ],
 "metadata": {
  "kernelspec": {
   "display_name": "",
   "name": ""
  },
  "language_info": {
   "name": ""
  }
 },
 "nbformat": 4,
 "nbformat_minor": 5
}
