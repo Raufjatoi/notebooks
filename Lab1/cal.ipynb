{
 "cells": [
  {
   "cell_type": "markdown",
   "metadata": {},
   "source": [
    "calculator "
   ]
  },
  {
   "cell_type": "code",
   "execution_count": 2,
   "metadata": {},
   "outputs": [
    {
     "name": "stdout",
     "output_type": "stream",
     "text": [
      "result: 11.0\n"
     ]
    }
   ],
   "source": [
    "num1 = int(input('Enter num1: '))\n",
    "num2 = int(input('Enter num2: '))\n",
    "operator = input('Enter operator (+, -, *, /): ')\n",
    "\n",
    "match operator:\n",
    "    case '+':\n",
    "        result = num1 + num2\n",
    "    case '-':\n",
    "        result = num1 - num2\n",
    "    case '*':\n",
    "        result = num1 * num2\n",
    "    case '/':\n",
    "        if num2 != 0:\n",
    "            result = num1 / num2\n",
    "        else:\n",
    "            result = 'Error: Division by zero'\n",
    "    case _:\n",
    "        result = 'Error: Invalid operator'\n",
    "\n",
    "print(f'result: {result}')"
   ]
  }
 ],
 "metadata": {
  "kernelspec": {
   "display_name": "Python 3",
   "language": "python",
   "name": "python3"
  },
  "language_info": {
   "codemirror_mode": {
    "name": "ipython",
    "version": 3
   },
   "file_extension": ".py",
   "mimetype": "text/x-python",
   "name": "python",
   "nbconvert_exporter": "python",
   "pygments_lexer": "ipython3",
   "version": "3.12.7"
  }
 },
 "nbformat": 4,
 "nbformat_minor": 2
}
