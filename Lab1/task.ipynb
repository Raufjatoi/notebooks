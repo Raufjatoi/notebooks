{
 "cells": [
  {
   "cell_type": "markdown",
   "metadata": {},
   "source": [
    "A Python program that implements a simple Chatbot"
   ]
  },
  {
   "cell_type": "code",
   "execution_count": null,
   "metadata": {},
   "outputs": [
    {
     "name": "stdout",
     "output_type": "stream",
     "text": [
      "asaan urdu baat karne waley machine\n",
      "=====================================\n",
      " inn ma se pouchon \n",
      "1. kaise ho\n",
      "2. hi\n",
      "3. kya karte ho ap\n",
      "4. apka naam kya ha\n",
      "5. apne kal kya kiya\n",
      "6. ap kaam kase karte ho\n",
      "7. bas theek\n"
     ]
    },
    {
     "name": "stdout",
     "output_type": "stream",
     "text": [
      "sawal pouchon:  ap kaam kase karte ho\n"
     ]
    },
    {
     "name": "stdout",
     "output_type": "stream",
     "text": [
      "ma sawal if-else ke madad se deta ho aur agar koi sawal nhi samaj aye tou sidha jawab deta ho. \n"
     ]
    }
   ],
   "source": [
    "print(\"asaan urdu baat karne waley machine\")\n",
    "print(\"=====================================\")\n",
    "print(\" inn ma se pouchon \")\n",
    "print(\"1. kaise ho\")\n",
    "print(\"2. hi\")\n",
    "print(\"3. kya karte ho ap\")\n",
    "print(\"4. apka naam kya ha\")\n",
    "print(\"5. apne kal kya kiya\")\n",
    "print(\"6. ap kaam kase karte ho\")\n",
    "print(\"7. bas theek\")\n",
    "\n",
    "while True:\n",
    "    question = input(\"sawal pouchon: \").lower()\n",
    "    \n",
    "    if question in ['kaise ho' , 'hi']:\n",
    "        print(\"ma theek , ap sonao \")\n",
    "        \n",
    "    elif question in ['ma bhe theek' , 'sab fas class']:\n",
    "        print(\"sahi ha phir\")\n",
    "        \n",
    "    elif question in ['kya karte ho ap', 'kya ap koi kam kar rha ho']:\n",
    "        print(\"ma quest ma kaam karta ho \")\n",
    "        \n",
    "    elif question == 'apka naam kya ha':\n",
    "        print(\"mera naam ai bot ha \")\n",
    "        name = input(\"aur apka naam ?:  \")\n",
    "        print(f\"apse milkar acha laga , {name}!\")\n",
    "        \n",
    "    elif question == 'apne kal kya kiya':\n",
    "        print(\"kise se chat ke\")\n",
    "    elif question == (\"ap kaam kase karte ho\"):\n",
    "        print(\"ma sawal if-else ke madad se deta ho aur agar koi sawal nhi samaj aye tou sidha jawab deta ho. \")\n",
    "        \n",
    "    elif question == 'bas theek':\n",
    "        print(f\"khuda hafiz {name}\")\n",
    "        break\n",
    "        \n",
    "    else:\n",
    "        print(\"mujha sawal samaj ma nhi aya\")"
   ]
  }
 ],
 "metadata": {
  "kernelspec": {
   "display_name": "Python 3",
   "language": "python",
   "name": "python3"
  },
  "language_info": {
   "codemirror_mode": {
    "name": "ipython",
    "version": 3
   },
   "file_extension": ".py",
   "mimetype": "text/x-python",
   "name": "python",
   "nbconvert_exporter": "python",
   "pygments_lexer": "ipython3",
   "version": "3.12.7"
  }
 },
 "nbformat": 4,
 "nbformat_minor": 4
}
