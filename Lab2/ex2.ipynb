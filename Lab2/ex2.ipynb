{
 "cells": [
  {
   "cell_type": "code",
   "execution_count": 8,
   "metadata": {},
   "outputs": [
    {
     "name": "stdout",
     "output_type": "stream",
     "text": [
      " account Number: 1\n",
      " name: Abdul Rauf\n",
      " date of opening: 2024-10-30\n",
      " current Balance: 5000\n",
      "added 200. new balance is: 5200\n",
      "withdraw 100. new balance is: 5100\n",
      " balance is: 5100\n",
      " account Number: 1\n",
      " name: Abdul Rauf\n",
      " date of opening: 2024-10-30\n",
      " current Balance: 5100\n"
     ]
    }
   ],
   "source": [
    "class BankAccount:\n",
    "    def __init__(self, num, name, date, balance=0):\n",
    "        self.num = num\n",
    "        self.name = name\n",
    "        self.date = date\n",
    "        self.balance = balance\n",
    "\n",
    "    def deposit(self, amount):\n",
    "            self.balance += amount\n",
    "            print(f\"added {amount}. new balance is: {self.balance}\")\n",
    "        \n",
    "    def withdraw(self, amount):\n",
    "            if self.balance >= amount:\n",
    "                self.balance -= amount\n",
    "                print(f\"withdraw {amount}. new balance is: {self.balance}\")\n",
    "            else:\n",
    "                print(\"not enough balance.\")\n",
    "    \n",
    "    def check_balance(self):\n",
    "        print(f\" balance is: {self.balance}\")\n",
    "    \n",
    "    def details(self):\n",
    "        print(f\" account Number: {self.num}\")\n",
    "        print(f\" name: {self.name}\")\n",
    "        print(f\" date of opening: {self.date}\")\n",
    "        print(f\" current Balance: {self.balance}\")\n",
    "\n",
    "account = BankAccount(num=\"1\", name=\"Abdul Rauf\", date=\"2024-10-30\", balance=5000)\n",
    "account.details()\n",
    "account.deposit(200)\n",
    "account.withdraw(100)\n",
    "account.check_balance()\n",
    "account.details()\n",
    "\n"
   ]
  }
 ],
 "metadata": {
  "kernelspec": {
   "display_name": "Python 3",
   "language": "python",
   "name": "python3"
  },
  "language_info": {
   "codemirror_mode": {
    "name": "ipython",
    "version": 3
   },
   "file_extension": ".py",
   "mimetype": "text/x-python",
   "name": "python",
   "nbconvert_exporter": "python",
   "pygments_lexer": "ipython3",
   "version": "3.12.7"
  }
 },
 "nbformat": 4,
 "nbformat_minor": 4
}
