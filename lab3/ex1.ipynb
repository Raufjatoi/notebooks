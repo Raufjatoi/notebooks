{
 "cells": [
  {
   "cell_type": "markdown",
   "metadata": {},
   "source": [
    "# Addition of two Matrixes "
   ]
  },
  {
   "cell_type": "code",
   "execution_count": 18,
   "metadata": {},
   "outputs": [
    {
     "name": "stdout",
     "output_type": "stream",
     "text": [
      "[11, 13, 15]\n",
      "[17, 19, 21]\n",
      "[23, 25, 27]\n",
      "3\n"
     ]
    }
   ],
   "source": [
    "X = [[1,2,3], \n",
    "     [4,5,6],  \n",
    "     [7,8,9]\n",
    "    ]  \n",
    "\n",
    "Y = [[10,11,12],  \n",
    "     [13,14,15],  \n",
    "     [16,17,18]\n",
    "    ]  \n",
    "\n",
    "r = [[0,0,0],  \n",
    "     [0,0,0],  \n",
    "     [0,0,0]\n",
    "    ]  \n",
    "\n",
    "# rows \n",
    "for i in range(len(X)):  \n",
    "    # cols\n",
    "    for j in range(len(X[0])):  \n",
    "        r[i][j] = X[i][j] + Y[i][j]\n",
    "\n",
    "for r in r:  \n",
    "   print(r)\n",
    "\n",
    "print(len(X))"
   ]
  },
  {
   "cell_type": "markdown",
   "metadata": {},
   "source": [
    "# Transpose of a Matrix"
   ]
  },
  {
   "cell_type": "markdown",
   "metadata": {},
   "source": [
    "## Write a Python code to transpose the following matrix:"
   ]
  },
  {
   "cell_type": "code",
   "execution_count": 5,
   "metadata": {},
   "outputs": [
    {
     "name": "stdout",
     "output_type": "stream",
     "text": [
      "[5, 2, 4]\n",
      "[4, 4, 7]\n",
      "[3, 6, 9]\n",
      "[2, 8, 11]\n"
     ]
    }
   ],
   "source": [
    "A = [ [5, 4, 3, 2],\n",
    "      [2, 4, 6, 8],  \n",
    "      [4, 7, 9, 11]]  \n",
    "\n",
    "res = [[0,0,0],\n",
    "       [0,0,0],\n",
    "       [0,0,0],\n",
    "       [0,0,0]]\n",
    "\n",
    "for i in range(len(A)+1):\n",
    "    for j in range(len(A)):\n",
    "        res[i][j] = A[j][i]\n",
    "\n",
    "for r in res:\n",
    "    print(r)\n"
   ]
  },
  {
   "cell_type": "markdown",
   "metadata": {},
   "source": [
    "# Sorting"
   ]
  },
  {
   "cell_type": "code",
   "execution_count": 16,
   "metadata": {},
   "outputs": [
    {
     "name": "stdout",
     "output_type": "stream",
     "text": [
      "\n",
      "Sorted String is: afru\n"
     ]
    }
   ],
   "source": [
    "str = input('String: ')\n",
    "str = sorted(str)\n",
    "str = ''.join(str)\n",
    "print(\"\\nSorted String is:\", str)\n"
   ]
  },
  {
   "cell_type": "markdown",
   "metadata": {},
   "source": [
    "## Write a Python code to sort the following text into alphabetical order:"
   ]
  },
  {
   "cell_type": "code",
   "execution_count": 13,
   "metadata": {},
   "outputs": [
    {
     "name": "stdout",
     "output_type": "stream",
     "text": [
      "Artificial Department Intelligence Welcome to\n"
     ]
    }
   ],
   "source": [
    "# Output:  Artificial Department Intelligence to Welcome\n",
    "\n",
    "Input = \"Welcome to Artificial Intelligence Department\"\n",
    "words = Input.split(' ')\n",
    "sen = sorted(words)\n",
    "output = ' '.join(sen)\n",
    "print(output)\n",
    "\n"
   ]
  },
  {
   "cell_type": "markdown",
   "metadata": {},
   "source": [
    "# lab prc "
   ]
  },
  {
   "cell_type": "markdown",
   "metadata": {},
   "source": [
    "## x and y "
   ]
  },
  {
   "cell_type": "code",
   "execution_count": 15,
   "metadata": {},
   "outputs": [
    {
     "name": "stdout",
     "output_type": "stream",
     "text": [
      "3 + 10 = 13\n"
     ]
    }
   ],
   "source": [
    "x = 3 \n",
    "y = 10\n",
    "\n",
    "result = x + y\n",
    "\n",
    "print(f'{x} + {y} = {result}')"
   ]
  },
  {
   "cell_type": "markdown",
   "metadata": {},
   "source": [
    "## Area "
   ]
  },
  {
   "cell_type": "code",
   "execution_count": 11,
   "metadata": {},
   "outputs": [
    {
     "name": "stdout",
     "output_type": "stream",
     "text": [
      "245.54 X 13.66 = 3354.0764\n"
     ]
    }
   ],
   "source": [
    "area = float(input('area: '))\n",
    "width = float(input('width: '))\n",
    "\n",
    "res = area * width\n",
    "\n",
    "print(f'{area} X {width} = {res}')"
   ]
  }
 ],
 "metadata": {
  "kernelspec": {
   "display_name": "Python 3",
   "language": "python",
   "name": "python3"
  },
  "language_info": {
   "codemirror_mode": {
    "name": "ipython",
    "version": 3
   },
   "file_extension": ".py",
   "mimetype": "text/x-python",
   "name": "python",
   "nbconvert_exporter": "python",
   "pygments_lexer": "ipython3",
   "version": "3.12.7"
  }
 },
 "nbformat": 4,
 "nbformat_minor": 2
}
