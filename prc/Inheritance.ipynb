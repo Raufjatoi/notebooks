{
 "cells": [
  {
   "cell_type": "markdown",
   "metadata": {},
   "source": [
    " ### Inheritance is the capability of one class to derive or inherit the properties from another class. The class that derives properties is called the derived class or child class and the class from which the properties are being derived is called the base class or parent class. The benefits of inheritance are:       \n",
    "\n",
    "⦁\tIt represents real-world relationships well.         \n",
    "\n",
    "⦁\tIt provides the reusability of a code. We don’t have to write the same code again and again. Also, it allows us to add more features to a class without modifying it.     \n",
    "\n",
    "⦁\tIt is transitive in nature, which means that if class        \n",
    "     \n",
    "B inherits from another class A, then all the subclasses of B would automatically inherit from class A.     \n"
   ]
  },
  {
   "cell_type": "code",
   "execution_count": null,
   "metadata": {},
   "outputs": [
    {
     "name": "stdout",
     "output_type": "stream",
     "text": [
      "Abdul Rauf\n",
      "420\n",
      "My name is Abdul Rauf\n",
      "IdNumber: 420\n",
      "M : Umar\n",
      "12345\n",
      "My name is M : Umar\n",
      "IdNumber: 12345\n",
      "Post: Manager\n",
      "Salary: 200000\n"
     ]
    }
   ],
   "source": [
    "class Person():\n",
    "    def __init__(self, name, idnumber):\n",
    "        self.name = name\n",
    "        self.idnumber = idnumber \n",
    "\n",
    "    def display(self):\n",
    "        print(self.name)\n",
    "        print(self.idnumber)\n",
    "                 \n",
    "    def details(self):\n",
    "        print(\"My name is \" + self.name)\n",
    "        print(\"IdNumber: \" + str(self.idnumber))\n",
    "\n",
    "class Employee(Person):\n",
    "    def __init__(self, name, idnumber, salary, post):\n",
    "        self.salary = salary\n",
    "        self.post = post\n",
    "        Person.__init__(self, name, idnumber)\n",
    "         \n",
    "    def details(self):\n",
    "        print(\"My name is {}\".format(self.name))\n",
    "        print(\"IdNumber: {}\".format(self.idnumber))\n",
    "        print(\"Post: {}\".format(self.post))\n",
    "        print(\"Salary: {}\".format(self.salary)) \n",
    "\n",
    "a = Person('Abdul Rauf', 420)\n",
    "\n",
    "a.display()\n",
    "a.details()\n",
    "b = Employee('M : Umar', 12345, 200000, \"Manager\")\n",
    "\n",
    "b.display()\n",
    "b.details()\n"
   ]
  }
 ],
 "metadata": {
  "kernelspec": {
   "display_name": "Python 3",
   "language": "python",
   "name": "python3"
  },
  "language_info": {
   "codemirror_mode": {
    "name": "ipython",
    "version": 3
   },
   "file_extension": ".py",
   "mimetype": "text/x-python",
   "name": "python",
   "nbconvert_exporter": "python",
   "pygments_lexer": "ipython3",
   "version": "3.12.7"
  }
 },
 "nbformat": 4,
 "nbformat_minor": 2
}
