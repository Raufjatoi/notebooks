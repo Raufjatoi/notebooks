{
 "cells": [
  {
   "cell_type": "markdown",
   "metadata": {},
   "source": [
    "### Polymorphism is another important concept of object-oriented programming. It simply means more than one form. That is, the same entity (method or operator or object) can perform different operations in different scenarios."
   ]
  },
  {
   "cell_type": "code",
   "execution_count": 1,
   "metadata": {},
   "outputs": [
    {
     "name": "stdout",
     "output_type": "stream",
     "text": [
      "Rendering Polygon...\n",
      "Rendering Square...\n",
      "Rendering Circle...\n"
     ]
    }
   ],
   "source": [
    "class Polygon:\n",
    "    def render(self):\n",
    "        print(\"Rendering Polygon...\")\n",
    "class Square(Polygon):\n",
    "    def render(self):\n",
    "        print(\"Rendering Square...\")\n",
    "class Circle(Polygon):\n",
    "    def render(self):\n",
    "        print(\"Rendering Circle...\")\n",
    "\n",
    "p1 = Polygon()\n",
    "p1.render()\n",
    "s1 = Square()\n",
    "s1.render()\n",
    "\n",
    "c1 = Circle()\n",
    "c1.render()"
   ]
  }
 ],
 "metadata": {
  "kernelspec": {
   "display_name": "Python 3",
   "language": "python",
   "name": "python3"
  },
  "language_info": {
   "codemirror_mode": {
    "name": "ipython",
    "version": 3
   },
   "file_extension": ".py",
   "mimetype": "text/x-python",
   "name": "python",
   "nbconvert_exporter": "python",
   "pygments_lexer": "ipython3",
   "version": "3.12.7"
  }
 },
 "nbformat": 4,
 "nbformat_minor": 2
}
